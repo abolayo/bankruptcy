{
 "cells": [
  {
   "cell_type": "markdown",
   "id": "598bcb57",
   "metadata": {},
   "source": [
    "# This Notebook is to predict bankruptcy of some industries based on the informations provided."
   ]
  },
  {
   "cell_type": "raw",
   "id": "6fea7d5d",
   "metadata": {},
   "source": [
    "Libararies are imported,these libraries are used at certain stages of the analysis."
   ]
  },
  {
   "cell_type": "code",
   "execution_count": 1,
   "id": "40945d50",
   "metadata": {},
   "outputs": [],
   "source": [
    "# Import libraries here\n",
    "import gzip\n",
    "import json\n",
    "import pickle\n",
    "\n",
    "import ipywidgets as widgets\n",
    "import pandas as pd\n",
    "import matplotlib.pyplot as plt\n",
    "\n",
    "from imblearn.over_sampling import RandomOverSampler\n",
    "from ipywidgets import interact\n",
    "from sklearn.ensemble import RandomForestClassifier\n",
    "from sklearn.metrics import (\n",
    "    ConfusionMatrixDisplay,\n",
    "    classification_report,\n",
    "    confusion_matrix,\n",
    ")\n",
    "from sklearn.model_selection import train_test_split,cross_val_score,GridSearchCV\n"
   ]
  },
  {
   "cell_type": "raw",
   "id": "08a32ada",
   "metadata": {},
   "source": [
    "The first 5 rows of the data is viewed after it is imported.\n",
    "The shape and other relevent imformations are checked to have a general understanding of the dataset - EDA (Exploratory Data Analysis)"
   ]
  },
  {
   "cell_type": "code",
   "execution_count": 2,
   "id": "b1bf7386",
   "metadata": {},
   "outputs": [
    {
     "data": {
      "text/html": [
       "<div>\n",
       "<style scoped>\n",
       "    .dataframe tbody tr th:only-of-type {\n",
       "        vertical-align: middle;\n",
       "    }\n",
       "\n",
       "    .dataframe tbody tr th {\n",
       "        vertical-align: top;\n",
       "    }\n",
       "\n",
       "    .dataframe thead th {\n",
       "        text-align: right;\n",
       "    }\n",
       "</style>\n",
       "<table border=\"1\" class=\"dataframe\">\n",
       "  <thead>\n",
       "    <tr style=\"text-align: right;\">\n",
       "      <th></th>\n",
       "      <th>Bankrupt?</th>\n",
       "      <th>ROA(C) before interest and depreciation before interest</th>\n",
       "      <th>ROA(A) before interest and % after tax</th>\n",
       "      <th>ROA(B) before interest and depreciation after tax</th>\n",
       "      <th>Operating Gross Margin</th>\n",
       "      <th>Realized Sales Gross Margin</th>\n",
       "      <th>Operating Profit Rate</th>\n",
       "      <th>Pre-tax net Interest Rate</th>\n",
       "      <th>After-tax net Interest Rate</th>\n",
       "      <th>Non-industry income and expenditure/revenue</th>\n",
       "      <th>...</th>\n",
       "      <th>Net Income to Total Assets</th>\n",
       "      <th>Total assets to GNP price</th>\n",
       "      <th>No-credit Interval</th>\n",
       "      <th>Gross Profit to Sales</th>\n",
       "      <th>Net Income to Stockholder's Equity</th>\n",
       "      <th>Liability to Equity</th>\n",
       "      <th>Degree of Financial Leverage (DFL)</th>\n",
       "      <th>Interest Coverage Ratio (Interest expense to EBIT)</th>\n",
       "      <th>Net Income Flag</th>\n",
       "      <th>Equity to Liability</th>\n",
       "    </tr>\n",
       "  </thead>\n",
       "  <tbody>\n",
       "    <tr>\n",
       "      <th>0</th>\n",
       "      <td>1</td>\n",
       "      <td>0.370594</td>\n",
       "      <td>0.424389</td>\n",
       "      <td>0.405750</td>\n",
       "      <td>0.601457</td>\n",
       "      <td>0.601457</td>\n",
       "      <td>0.998969</td>\n",
       "      <td>0.796887</td>\n",
       "      <td>0.808809</td>\n",
       "      <td>0.302646</td>\n",
       "      <td>...</td>\n",
       "      <td>0.716845</td>\n",
       "      <td>0.009219</td>\n",
       "      <td>0.622879</td>\n",
       "      <td>0.601453</td>\n",
       "      <td>0.827890</td>\n",
       "      <td>0.290202</td>\n",
       "      <td>0.026601</td>\n",
       "      <td>0.564050</td>\n",
       "      <td>1</td>\n",
       "      <td>0.016469</td>\n",
       "    </tr>\n",
       "    <tr>\n",
       "      <th>1</th>\n",
       "      <td>1</td>\n",
       "      <td>0.464291</td>\n",
       "      <td>0.538214</td>\n",
       "      <td>0.516730</td>\n",
       "      <td>0.610235</td>\n",
       "      <td>0.610235</td>\n",
       "      <td>0.998946</td>\n",
       "      <td>0.797380</td>\n",
       "      <td>0.809301</td>\n",
       "      <td>0.303556</td>\n",
       "      <td>...</td>\n",
       "      <td>0.795297</td>\n",
       "      <td>0.008323</td>\n",
       "      <td>0.623652</td>\n",
       "      <td>0.610237</td>\n",
       "      <td>0.839969</td>\n",
       "      <td>0.283846</td>\n",
       "      <td>0.264577</td>\n",
       "      <td>0.570175</td>\n",
       "      <td>1</td>\n",
       "      <td>0.020794</td>\n",
       "    </tr>\n",
       "    <tr>\n",
       "      <th>2</th>\n",
       "      <td>1</td>\n",
       "      <td>0.426071</td>\n",
       "      <td>0.499019</td>\n",
       "      <td>0.472295</td>\n",
       "      <td>0.601450</td>\n",
       "      <td>0.601364</td>\n",
       "      <td>0.998857</td>\n",
       "      <td>0.796403</td>\n",
       "      <td>0.808388</td>\n",
       "      <td>0.302035</td>\n",
       "      <td>...</td>\n",
       "      <td>0.774670</td>\n",
       "      <td>0.040003</td>\n",
       "      <td>0.623841</td>\n",
       "      <td>0.601449</td>\n",
       "      <td>0.836774</td>\n",
       "      <td>0.290189</td>\n",
       "      <td>0.026555</td>\n",
       "      <td>0.563706</td>\n",
       "      <td>1</td>\n",
       "      <td>0.016474</td>\n",
       "    </tr>\n",
       "    <tr>\n",
       "      <th>3</th>\n",
       "      <td>1</td>\n",
       "      <td>0.399844</td>\n",
       "      <td>0.451265</td>\n",
       "      <td>0.457733</td>\n",
       "      <td>0.583541</td>\n",
       "      <td>0.583541</td>\n",
       "      <td>0.998700</td>\n",
       "      <td>0.796967</td>\n",
       "      <td>0.808966</td>\n",
       "      <td>0.303350</td>\n",
       "      <td>...</td>\n",
       "      <td>0.739555</td>\n",
       "      <td>0.003252</td>\n",
       "      <td>0.622929</td>\n",
       "      <td>0.583538</td>\n",
       "      <td>0.834697</td>\n",
       "      <td>0.281721</td>\n",
       "      <td>0.026697</td>\n",
       "      <td>0.564663</td>\n",
       "      <td>1</td>\n",
       "      <td>0.023982</td>\n",
       "    </tr>\n",
       "    <tr>\n",
       "      <th>4</th>\n",
       "      <td>1</td>\n",
       "      <td>0.465022</td>\n",
       "      <td>0.538432</td>\n",
       "      <td>0.522298</td>\n",
       "      <td>0.598783</td>\n",
       "      <td>0.598783</td>\n",
       "      <td>0.998973</td>\n",
       "      <td>0.797366</td>\n",
       "      <td>0.809304</td>\n",
       "      <td>0.303475</td>\n",
       "      <td>...</td>\n",
       "      <td>0.795016</td>\n",
       "      <td>0.003878</td>\n",
       "      <td>0.623521</td>\n",
       "      <td>0.598782</td>\n",
       "      <td>0.839973</td>\n",
       "      <td>0.278514</td>\n",
       "      <td>0.024752</td>\n",
       "      <td>0.575617</td>\n",
       "      <td>1</td>\n",
       "      <td>0.035490</td>\n",
       "    </tr>\n",
       "  </tbody>\n",
       "</table>\n",
       "<p>5 rows × 96 columns</p>\n",
       "</div>"
      ],
      "text/plain": [
       "   Bankrupt?   ROA(C) before interest and depreciation before interest  \\\n",
       "0          1                                           0.370594          \n",
       "1          1                                           0.464291          \n",
       "2          1                                           0.426071          \n",
       "3          1                                           0.399844          \n",
       "4          1                                           0.465022          \n",
       "\n",
       "    ROA(A) before interest and % after tax  \\\n",
       "0                                 0.424389   \n",
       "1                                 0.538214   \n",
       "2                                 0.499019   \n",
       "3                                 0.451265   \n",
       "4                                 0.538432   \n",
       "\n",
       "    ROA(B) before interest and depreciation after tax  \\\n",
       "0                                           0.405750    \n",
       "1                                           0.516730    \n",
       "2                                           0.472295    \n",
       "3                                           0.457733    \n",
       "4                                           0.522298    \n",
       "\n",
       "    Operating Gross Margin   Realized Sales Gross Margin  \\\n",
       "0                 0.601457                      0.601457   \n",
       "1                 0.610235                      0.610235   \n",
       "2                 0.601450                      0.601364   \n",
       "3                 0.583541                      0.583541   \n",
       "4                 0.598783                      0.598783   \n",
       "\n",
       "    Operating Profit Rate   Pre-tax net Interest Rate  \\\n",
       "0                0.998969                    0.796887   \n",
       "1                0.998946                    0.797380   \n",
       "2                0.998857                    0.796403   \n",
       "3                0.998700                    0.796967   \n",
       "4                0.998973                    0.797366   \n",
       "\n",
       "    After-tax net Interest Rate   Non-industry income and expenditure/revenue  \\\n",
       "0                      0.808809                                      0.302646   \n",
       "1                      0.809301                                      0.303556   \n",
       "2                      0.808388                                      0.302035   \n",
       "3                      0.808966                                      0.303350   \n",
       "4                      0.809304                                      0.303475   \n",
       "\n",
       "   ...   Net Income to Total Assets   Total assets to GNP price  \\\n",
       "0  ...                     0.716845                    0.009219   \n",
       "1  ...                     0.795297                    0.008323   \n",
       "2  ...                     0.774670                    0.040003   \n",
       "3  ...                     0.739555                    0.003252   \n",
       "4  ...                     0.795016                    0.003878   \n",
       "\n",
       "    No-credit Interval   Gross Profit to Sales  \\\n",
       "0             0.622879                0.601453   \n",
       "1             0.623652                0.610237   \n",
       "2             0.623841                0.601449   \n",
       "3             0.622929                0.583538   \n",
       "4             0.623521                0.598782   \n",
       "\n",
       "    Net Income to Stockholder's Equity   Liability to Equity  \\\n",
       "0                             0.827890              0.290202   \n",
       "1                             0.839969              0.283846   \n",
       "2                             0.836774              0.290189   \n",
       "3                             0.834697              0.281721   \n",
       "4                             0.839973              0.278514   \n",
       "\n",
       "    Degree of Financial Leverage (DFL)  \\\n",
       "0                             0.026601   \n",
       "1                             0.264577   \n",
       "2                             0.026555   \n",
       "3                             0.026697   \n",
       "4                             0.024752   \n",
       "\n",
       "    Interest Coverage Ratio (Interest expense to EBIT)   Net Income Flag  \\\n",
       "0                                           0.564050                   1   \n",
       "1                                           0.570175                   1   \n",
       "2                                           0.563706                   1   \n",
       "3                                           0.564663                   1   \n",
       "4                                           0.575617                   1   \n",
       "\n",
       "    Equity to Liability  \n",
       "0              0.016469  \n",
       "1              0.020794  \n",
       "2              0.016474  \n",
       "3              0.023982  \n",
       "4              0.035490  \n",
       "\n",
       "[5 rows x 96 columns]"
      ]
     },
     "execution_count": 2,
     "metadata": {},
     "output_type": "execute_result"
    }
   ],
   "source": [
    "#Read data into dataframe df\n",
    "df = pd.read_csv(\"data.csv\")\n",
    "df.head()"
   ]
  },
  {
   "cell_type": "code",
   "execution_count": 3,
   "id": "cfdf0696",
   "metadata": {},
   "outputs": [
    {
     "name": "stdout",
     "output_type": "stream",
     "text": [
      "df shape: (6819, 96)\n"
     ]
    }
   ],
   "source": [
    "#Shape of the dataframe, numbers of rows and columns\n",
    "print(\"df shape:\", df.shape)\n"
   ]
  },
  {
   "cell_type": "code",
   "execution_count": 4,
   "id": "158e1206",
   "metadata": {},
   "outputs": [
    {
     "name": "stdout",
     "output_type": "stream",
     "text": [
      "nans_by_col shape: (96,)\n"
     ]
    },
    {
     "data": {
      "text/plain": [
       "Bankrupt?                                                   0\n",
       " ROA(C) before interest and depreciation before interest    0\n",
       " ROA(A) before interest and % after tax                     0\n",
       " ROA(B) before interest and depreciation after tax          0\n",
       " Operating Gross Margin                                     0\n",
       "dtype: int64"
      ]
     },
     "execution_count": 4,
     "metadata": {},
     "output_type": "execute_result"
    }
   ],
   "source": [
    "##columns with missing input\n",
    "nans_by_col = df.isna().sum()\n",
    "print(\"nans_by_col shape:\", nans_by_col.shape)\n",
    "nans_by_col.head()"
   ]
  },
  {
   "cell_type": "code",
   "execution_count": 5,
   "id": "b80a5da5",
   "metadata": {},
   "outputs": [
    {
     "data": {
      "text/plain": [
       "Text(0.5, 1.0, 'Class Balance')"
      ]
     },
     "execution_count": 5,
     "metadata": {},
     "output_type": "execute_result"
    },
    {
     "data": {
      "image/png": "[encoded data removed]",
      "text/plain": [
       "<Figure size 640x480 with 1 Axes>"
      ]
     },
     "metadata": {},
     "output_type": "display_data"
    }
   ],
   "source": [
    "# Plot class balance of the target column\n",
    "df[\"Bankrupt?\"].value_counts(normalize=True).plot(kind=\"bar\")\n",
    "plt.xlabel(\"Bankrupt\")\n",
    "plt.ylabel(\"Frequency\")\n",
    "plt.title(\"Class Balance\")"
   ]
  },
  {
   "cell_type": "raw",
   "id": "81906253",
   "metadata": {},
   "source": [
    "It is glaring that the target columns is bias towards a class of companies."
   ]
  },
  {
   "cell_type": "code",
   "execution_count": 6,
   "id": "62165d92",
   "metadata": {},
   "outputs": [
    {
     "name": "stdout",
     "output_type": "stream",
     "text": [
      "X shape: (6819, 95)\n",
      "y shape: (6819,)\n"
     ]
    }
   ],
   "source": [
    "#\n",
    "target = \"Bankrupt?\"\n",
    "X = df.drop(columns=target)\n",
    "y = df[target]\n",
    "print(\"X shape:\", X.shape)\n",
    "print(\"y shape:\", y.shape)"
   ]
  },
  {
   "cell_type": "code",
   "execution_count": 7,
   "id": "31a706a5",
   "metadata": {},
   "outputs": [
    {
     "name": "stdout",
     "output_type": "stream",
     "text": [
      "X_train shape: (5455, 95)\n",
      "y_train shape: (5455,)\n",
      "X_test shape: (1364, 95)\n",
      "y_test shape: (1364,)\n"
     ]
    }
   ],
   "source": [
    "#Train test split of the dataset\n",
    "X_train, X_test, y_train, y_test = train_test_split(X,y,test_size=0.2,random_state=42)\n",
    "print(\"X_train shape:\", X_train.shape)\n",
    "print(\"y_train shape:\", y_train.shape)\n",
    "print(\"X_test shape:\", X_test.shape)\n",
    "print(\"y_test shape:\", y_test.shape)"
   ]
  },
  {
   "cell_type": "raw",
   "id": "0d59f3f7",
   "metadata": {},
   "source": [
    "in order to address the imbalance/baisness of the dataset, a python module is used.\n",
    "Imbalanced-Learn is a Python module that helps in balancing the datasets which are highly skewed or biased towards some classes.\n",
    "from the module we use Random Over Sampler: It is a naive method where classes that have low examples are generated and randomly resampled."
   ]
  },
  {
   "cell_type": "code",
   "execution_count": 8,
   "id": "ed45c339",
   "metadata": {},
   "outputs": [
    {
     "name": "stdout",
     "output_type": "stream",
     "text": [
      "X_train_over shape: (10572, 95)\n"
     ]
    },
    {
     "data": {
      "text/html": [
       "<div>\n",
       "<style scoped>\n",
       "    .dataframe tbody tr th:only-of-type {\n",
       "        vertical-align: middle;\n",
       "    }\n",
       "\n",
       "    .dataframe tbody tr th {\n",
       "        vertical-align: top;\n",
       "    }\n",
       "\n",
       "    .dataframe thead th {\n",
       "        text-align: right;\n",
       "    }\n",
       "</style>\n",
       "<table border=\"1\" class=\"dataframe\">\n",
       "  <thead>\n",
       "    <tr style=\"text-align: right;\">\n",
       "      <th></th>\n",
       "      <th>ROA(C) before interest and depreciation before interest</th>\n",
       "      <th>ROA(A) before interest and % after tax</th>\n",
       "      <th>ROA(B) before interest and depreciation after tax</th>\n",
       "      <th>Operating Gross Margin</th>\n",
       "      <th>Realized Sales Gross Margin</th>\n",
       "      <th>Operating Profit Rate</th>\n",
       "      <th>Pre-tax net Interest Rate</th>\n",
       "      <th>After-tax net Interest Rate</th>\n",
       "      <th>Non-industry income and expenditure/revenue</th>\n",
       "      <th>Continuous interest rate (after tax)</th>\n",
       "      <th>...</th>\n",
       "      <th>Net Income to Total Assets</th>\n",
       "      <th>Total assets to GNP price</th>\n",
       "      <th>No-credit Interval</th>\n",
       "      <th>Gross Profit to Sales</th>\n",
       "      <th>Net Income to Stockholder's Equity</th>\n",
       "      <th>Liability to Equity</th>\n",
       "      <th>Degree of Financial Leverage (DFL)</th>\n",
       "      <th>Interest Coverage Ratio (Interest expense to EBIT)</th>\n",
       "      <th>Net Income Flag</th>\n",
       "      <th>Equity to Liability</th>\n",
       "    </tr>\n",
       "  </thead>\n",
       "  <tbody>\n",
       "    <tr>\n",
       "      <th>0</th>\n",
       "      <td>0.498513</td>\n",
       "      <td>0.542848</td>\n",
       "      <td>0.544622</td>\n",
       "      <td>0.599194</td>\n",
       "      <td>0.599036</td>\n",
       "      <td>0.998986</td>\n",
       "      <td>0.797412</td>\n",
       "      <td>0.809330</td>\n",
       "      <td>0.303528</td>\n",
       "      <td>0.781593</td>\n",
       "      <td>...</td>\n",
       "      <td>0.801313</td>\n",
       "      <td>0.005821</td>\n",
       "      <td>0.623649</td>\n",
       "      <td>0.599196</td>\n",
       "      <td>0.840580</td>\n",
       "      <td>0.282564</td>\n",
       "      <td>0.027239</td>\n",
       "      <td>0.566658</td>\n",
       "      <td>1</td>\n",
       "      <td>0.022512</td>\n",
       "    </tr>\n",
       "    <tr>\n",
       "      <th>1</th>\n",
       "      <td>0.506606</td>\n",
       "      <td>0.562309</td>\n",
       "      <td>0.558863</td>\n",
       "      <td>0.609334</td>\n",
       "      <td>0.609334</td>\n",
       "      <td>0.999027</td>\n",
       "      <td>0.797450</td>\n",
       "      <td>0.809375</td>\n",
       "      <td>0.303508</td>\n",
       "      <td>0.781637</td>\n",
       "      <td>...</td>\n",
       "      <td>0.810914</td>\n",
       "      <td>0.000481</td>\n",
       "      <td>0.623932</td>\n",
       "      <td>0.609332</td>\n",
       "      <td>0.841339</td>\n",
       "      <td>0.280570</td>\n",
       "      <td>0.026843</td>\n",
       "      <td>0.565395</td>\n",
       "      <td>1</td>\n",
       "      <td>0.026670</td>\n",
       "    </tr>\n",
       "    <tr>\n",
       "      <th>2</th>\n",
       "      <td>0.508799</td>\n",
       "      <td>0.561001</td>\n",
       "      <td>0.554687</td>\n",
       "      <td>0.614242</td>\n",
       "      <td>0.614055</td>\n",
       "      <td>0.999094</td>\n",
       "      <td>0.797533</td>\n",
       "      <td>0.809424</td>\n",
       "      <td>0.303514</td>\n",
       "      <td>0.781692</td>\n",
       "      <td>...</td>\n",
       "      <td>0.809740</td>\n",
       "      <td>0.001397</td>\n",
       "      <td>0.623714</td>\n",
       "      <td>0.614241</td>\n",
       "      <td>0.840969</td>\n",
       "      <td>0.277772</td>\n",
       "      <td>0.026864</td>\n",
       "      <td>0.565484</td>\n",
       "      <td>1</td>\n",
       "      <td>0.041556</td>\n",
       "    </tr>\n",
       "    <tr>\n",
       "      <th>3</th>\n",
       "      <td>0.499976</td>\n",
       "      <td>0.562527</td>\n",
       "      <td>0.546764</td>\n",
       "      <td>0.597825</td>\n",
       "      <td>0.597825</td>\n",
       "      <td>0.999004</td>\n",
       "      <td>0.797411</td>\n",
       "      <td>0.809329</td>\n",
       "      <td>0.303490</td>\n",
       "      <td>0.781590</td>\n",
       "      <td>...</td>\n",
       "      <td>0.810082</td>\n",
       "      <td>0.000998</td>\n",
       "      <td>0.623986</td>\n",
       "      <td>0.597824</td>\n",
       "      <td>0.841885</td>\n",
       "      <td>0.286871</td>\n",
       "      <td>0.026951</td>\n",
       "      <td>0.565820</td>\n",
       "      <td>1</td>\n",
       "      <td>0.018173</td>\n",
       "    </tr>\n",
       "    <tr>\n",
       "      <th>4</th>\n",
       "      <td>0.477892</td>\n",
       "      <td>0.547700</td>\n",
       "      <td>0.529150</td>\n",
       "      <td>0.600362</td>\n",
       "      <td>0.600362</td>\n",
       "      <td>0.998975</td>\n",
       "      <td>0.797412</td>\n",
       "      <td>0.809333</td>\n",
       "      <td>0.303551</td>\n",
       "      <td>0.781584</td>\n",
       "      <td>...</td>\n",
       "      <td>0.804638</td>\n",
       "      <td>0.002826</td>\n",
       "      <td>0.623845</td>\n",
       "      <td>0.600363</td>\n",
       "      <td>0.840885</td>\n",
       "      <td>0.282073</td>\n",
       "      <td>0.026959</td>\n",
       "      <td>0.565848</td>\n",
       "      <td>1</td>\n",
       "      <td>0.023328</td>\n",
       "    </tr>\n",
       "  </tbody>\n",
       "</table>\n",
       "<p>5 rows × 95 columns</p>\n",
       "</div>"
      ],
      "text/plain": [
       "    ROA(C) before interest and depreciation before interest  \\\n",
       "0                                           0.498513          \n",
       "1                                           0.506606          \n",
       "2                                           0.508799          \n",
       "3                                           0.499976          \n",
       "4                                           0.477892          \n",
       "\n",
       "    ROA(A) before interest and % after tax  \\\n",
       "0                                 0.542848   \n",
       "1                                 0.562309   \n",
       "2                                 0.561001   \n",
       "3                                 0.562527   \n",
       "4                                 0.547700   \n",
       "\n",
       "    ROA(B) before interest and depreciation after tax  \\\n",
       "0                                           0.544622    \n",
       "1                                           0.558863    \n",
       "2                                           0.554687    \n",
       "3                                           0.546764    \n",
       "4                                           0.529150    \n",
       "\n",
       "    Operating Gross Margin   Realized Sales Gross Margin  \\\n",
       "0                 0.599194                      0.599036   \n",
       "1                 0.609334                      0.609334   \n",
       "2                 0.614242                      0.614055   \n",
       "3                 0.597825                      0.597825   \n",
       "4                 0.600362                      0.600362   \n",
       "\n",
       "    Operating Profit Rate   Pre-tax net Interest Rate  \\\n",
       "0                0.998986                    0.797412   \n",
       "1                0.999027                    0.797450   \n",
       "2                0.999094                    0.797533   \n",
       "3                0.999004                    0.797411   \n",
       "4                0.998975                    0.797412   \n",
       "\n",
       "    After-tax net Interest Rate   Non-industry income and expenditure/revenue  \\\n",
       "0                      0.809330                                      0.303528   \n",
       "1                      0.809375                                      0.303508   \n",
       "2                      0.809424                                      0.303514   \n",
       "3                      0.809329                                      0.303490   \n",
       "4                      0.809333                                      0.303551   \n",
       "\n",
       "    Continuous interest rate (after tax)  ...   Net Income to Total Assets  \\\n",
       "0                               0.781593  ...                     0.801313   \n",
       "1                               0.781637  ...                     0.810914   \n",
       "2                               0.781692  ...                     0.809740   \n",
       "3                               0.781590  ...                     0.810082   \n",
       "4                               0.781584  ...                     0.804638   \n",
       "\n",
       "    Total assets to GNP price   No-credit Interval   Gross Profit to Sales  \\\n",
       "0                    0.005821             0.623649                0.599196   \n",
       "1                    0.000481             0.623932                0.609332   \n",
       "2                    0.001397             0.623714                0.614241   \n",
       "3                    0.000998             0.623986                0.597824   \n",
       "4                    0.002826             0.623845                0.600363   \n",
       "\n",
       "    Net Income to Stockholder's Equity   Liability to Equity  \\\n",
       "0                             0.840580              0.282564   \n",
       "1                             0.841339              0.280570   \n",
       "2                             0.840969              0.277772   \n",
       "3                             0.841885              0.286871   \n",
       "4                             0.840885              0.282073   \n",
       "\n",
       "    Degree of Financial Leverage (DFL)  \\\n",
       "0                             0.027239   \n",
       "1                             0.026843   \n",
       "2                             0.026864   \n",
       "3                             0.026951   \n",
       "4                             0.026959   \n",
       "\n",
       "    Interest Coverage Ratio (Interest expense to EBIT)   Net Income Flag  \\\n",
       "0                                           0.566658                   1   \n",
       "1                                           0.565395                   1   \n",
       "2                                           0.565484                   1   \n",
       "3                                           0.565820                   1   \n",
       "4                                           0.565848                   1   \n",
       "\n",
       "    Equity to Liability  \n",
       "0              0.022512  \n",
       "1              0.026670  \n",
       "2              0.041556  \n",
       "3              0.018173  \n",
       "4              0.023328  \n",
       "\n",
       "[5 rows x 95 columns]"
      ]
     },
     "execution_count": 8,
     "metadata": {},
     "output_type": "execute_result"
    }
   ],
   "source": [
    "\n",
    "over_sampler = RandomOverSampler(random_state=42)\n",
    "X_train_over, y_train_over = over_sampler.fit_resample(X_train,y_train)\n",
    "print(\"X_train_over shape:\", X_train_over.shape)\n",
    "X_train_over.head()"
   ]
  },
  {
   "cell_type": "code",
   "execution_count": 9,
   "id": "8362cc17",
   "metadata": {},
   "outputs": [
    {
     "data": {
      "text/plain": [
       "Text(0.5, 1.0, 'Class Balance')"
      ]
     },
     "execution_count": 9,
     "metadata": {},
     "output_type": "execute_result"
    },
    {
     "data": {
      "image/png": "[encoded data removed]",
      "text/plain": [
       "<Figure size 640x480 with 1 Axes>"
      ]
     },
     "metadata": {},
     "output_type": "display_data"
    }
   ],
   "source": [
    "# Class balance plot after sampling\n",
    "y_train_over.value_counts(normalize=True).plot(kind=\"bar\")\n",
    "plt.xlabel(\"Bankrupt\")\n",
    "plt.ylabel(\"Frequency\")\n",
    "plt.title(\"Class Balance\")"
   ]
  },
  {
   "cell_type": "code",
   "execution_count": 10,
   "id": "0266ee24",
   "metadata": {},
   "outputs": [
    {
     "data": {
      "text/html": [
       "<style>#sk-container-id-1 {color: black;background-color: white;}#sk-container-id-1 pre{padding: 0;}#sk-container-id-1 div.sk-toggleable {background-color: white;}#sk-container-id-1 label.sk-toggleable__label {cursor: pointer;display: block;width: 100%;margin-bottom: 0;padding: 0.3em;box-sizing: border-box;text-align: center;}#sk-container-id-1 label.sk-toggleable__label-arrow:before {content: \"▸\";float: left;margin-right: 0.25em;color: #696969;}#sk-container-id-1 label.sk-toggleable__label-arrow:hover:before {color: black;}#sk-container-id-1 div.sk-estimator:hover label.sk-toggleable__label-arrow:before {color: black;}#sk-container-id-1 div.sk-toggleable__content {max-height: 0;max-width: 0;overflow: hidden;text-align: left;background-color: #f0f8ff;}#sk-container-id-1 div.sk-toggleable__content pre {margin: 0.2em;color: black;border-radius: 0.25em;background-color: #f0f8ff;}#sk-container-id-1 input.sk-toggleable__control:checked~div.sk-toggleable__content {max-height: 200px;max-width: 100%;overflow: auto;}#sk-container-id-1 input.sk-toggleable__control:checked~label.sk-toggleable__label-arrow:before {content: \"▾\";}#sk-container-id-1 div.sk-estimator input.sk-toggleable__control:checked~label.sk-toggleable__label {background-color: #d4ebff;}#sk-container-id-1 div.sk-label input.sk-toggleable__control:checked~label.sk-toggleable__label {background-color: #d4ebff;}#sk-container-id-1 input.sk-hidden--visually {border: 0;clip: rect(1px 1px 1px 1px);clip: rect(1px, 1px, 1px, 1px);height: 1px;margin: -1px;overflow: hidden;padding: 0;position: absolute;width: 1px;}#sk-container-id-1 div.sk-estimator {font-family: monospace;background-color: #f0f8ff;border: 1px dotted black;border-radius: 0.25em;box-sizing: border-box;margin-bottom: 0.5em;}#sk-container-id-1 div.sk-estimator:hover {background-color: #d4ebff;}#sk-container-id-1 div.sk-parallel-item::after {content: \"\";width: 100%;border-bottom: 1px solid gray;flex-grow: 1;}#sk-container-id-1 div.sk-label:hover label.sk-toggleable__label {background-color: #d4ebff;}#sk-container-id-1 div.sk-serial::before {content: \"\";position: absolute;border-left: 1px solid gray;box-sizing: border-box;top: 0;bottom: 0;left: 50%;z-index: 0;}#sk-container-id-1 div.sk-serial {display: flex;flex-direction: column;align-items: center;background-color: white;padding-right: 0.2em;padding-left: 0.2em;position: relative;}#sk-container-id-1 div.sk-item {position: relative;z-index: 1;}#sk-container-id-1 div.sk-parallel {display: flex;align-items: stretch;justify-content: center;background-color: white;position: relative;}#sk-container-id-1 div.sk-item::before, #sk-container-id-1 div.sk-parallel-item::before {content: \"\";position: absolute;border-left: 1px solid gray;box-sizing: border-box;top: 0;bottom: 0;left: 50%;z-index: -1;}#sk-container-id-1 div.sk-parallel-item {display: flex;flex-direction: column;z-index: 1;position: relative;background-color: white;}#sk-container-id-1 div.sk-parallel-item:first-child::after {align-self: flex-end;width: 50%;}#sk-container-id-1 div.sk-parallel-item:last-child::after {align-self: flex-start;width: 50%;}#sk-container-id-1 div.sk-parallel-item:only-child::after {width: 0;}#sk-container-id-1 div.sk-dashed-wrapped {border: 1px dashed gray;margin: 0 0.4em 0.5em 0.4em;box-sizing: border-box;padding-bottom: 0.4em;background-color: white;}#sk-container-id-1 div.sk-label label {font-family: monospace;font-weight: bold;display: inline-block;line-height: 1.2em;}#sk-container-id-1 div.sk-label-container {text-align: center;}#sk-container-id-1 div.sk-container {/* jupyter's `normalize.less` sets `[hidden] { display: none; }` but bootstrap.min.css set `[hidden] { display: none !important; }` so we also need the `!important` here to be able to override the default hidden behavior on the sphinx rendered scikit-learn.org. See: https://github.com/scikit-learn/scikit-learn/issues/21755 */display: inline-block !important;position: relative;}#sk-container-id-1 div.sk-text-repr-fallback {display: none;}</style><div id=\"sk-container-id-1\" class=\"sk-top-container\"><div class=\"sk-text-repr-fallback\"><pre>RandomForestClassifier(random_state=42)</pre><b>In a Jupyter environment, please rerun this cell to show the HTML representation or trust the notebook. <br />On GitHub, the HTML representation is unable to render, please try loading this page with nbviewer.org.</b></div><div class=\"sk-container\" hidden><div class=\"sk-item\"><div class=\"sk-estimator sk-toggleable\"><input class=\"sk-toggleable__control sk-hidden--visually\" id=\"sk-estimator-id-1\" type=\"checkbox\" checked><label for=\"sk-estimator-id-1\" class=\"sk-toggleable__label sk-toggleable__label-arrow\">RandomForestClassifier</label><div class=\"sk-toggleable__content\"><pre>RandomForestClassifier(random_state=42)</pre></div></div></div></div></div>"
      ],
      "text/plain": [
       "RandomForestClassifier(random_state=42)"
      ]
     },
     "execution_count": 10,
     "metadata": {},
     "output_type": "execute_result"
    }
   ],
   "source": [
    "#initializing the classifier\n",
    "clf = RandomForestClassifier(random_state=42)\n",
    "clf.fit(X_train_over, y_train_over)"
   ]
  },
  {
   "cell_type": "code",
   "execution_count": 11,
   "id": "51063f92",
   "metadata": {},
   "outputs": [],
   "source": [
    "#parameter choice\n",
    "params = {\n",
    "    \"n_estimators\":range(1,50,5),\n",
    "    \"max_depth\":(2,5)\n",
    "}"
   ]
  },
  {
   "cell_type": "code",
   "execution_count": 12,
   "id": "d002894e",
   "metadata": {},
   "outputs": [
    {
     "name": "stdout",
     "output_type": "stream",
     "text": [
      "Fitting 5 folds for each of 20 candidates, totalling 100 fits\n"
     ]
    },
    {
     "data": {
      "text/html": [
       "<style>#sk-container-id-2 {color: black;background-color: white;}#sk-container-id-2 pre{padding: 0;}#sk-container-id-2 div.sk-toggleable {background-color: white;}#sk-container-id-2 label.sk-toggleable__label {cursor: pointer;display: block;width: 100%;margin-bottom: 0;padding: 0.3em;box-sizing: border-box;text-align: center;}#sk-container-id-2 label.sk-toggleable__label-arrow:before {content: \"▸\";float: left;margin-right: 0.25em;color: #696969;}#sk-container-id-2 label.sk-toggleable__label-arrow:hover:before {color: black;}#sk-container-id-2 div.sk-estimator:hover label.sk-toggleable__label-arrow:before {color: black;}#sk-container-id-2 div.sk-toggleable__content {max-height: 0;max-width: 0;overflow: hidden;text-align: left;background-color: #f0f8ff;}#sk-container-id-2 div.sk-toggleable__content pre {margin: 0.2em;color: black;border-radius: 0.25em;background-color: #f0f8ff;}#sk-container-id-2 input.sk-toggleable__control:checked~div.sk-toggleable__content {max-height: 200px;max-width: 100%;overflow: auto;}#sk-container-id-2 input.sk-toggleable__control:checked~label.sk-toggleable__label-arrow:before {content: \"▾\";}#sk-container-id-2 div.sk-estimator input.sk-toggleable__control:checked~label.sk-toggleable__label {background-color: #d4ebff;}#sk-container-id-2 div.sk-label input.sk-toggleable__control:checked~label.sk-toggleable__label {background-color: #d4ebff;}#sk-container-id-2 input.sk-hidden--visually {border: 0;clip: rect(1px 1px 1px 1px);clip: rect(1px, 1px, 1px, 1px);height: 1px;margin: -1px;overflow: hidden;padding: 0;position: absolute;width: 1px;}#sk-container-id-2 div.sk-estimator {font-family: monospace;background-color: #f0f8ff;border: 1px dotted black;border-radius: 0.25em;box-sizing: border-box;margin-bottom: 0.5em;}#sk-container-id-2 div.sk-estimator:hover {background-color: #d4ebff;}#sk-container-id-2 div.sk-parallel-item::after {content: \"\";width: 100%;border-bottom: 1px solid gray;flex-grow: 1;}#sk-container-id-2 div.sk-label:hover label.sk-toggleable__label {background-color: #d4ebff;}#sk-container-id-2 div.sk-serial::before {content: \"\";position: absolute;border-left: 1px solid gray;box-sizing: border-box;top: 0;bottom: 0;left: 50%;z-index: 0;}#sk-container-id-2 div.sk-serial {display: flex;flex-direction: column;align-items: center;background-color: white;padding-right: 0.2em;padding-left: 0.2em;position: relative;}#sk-container-id-2 div.sk-item {position: relative;z-index: 1;}#sk-container-id-2 div.sk-parallel {display: flex;align-items: stretch;justify-content: center;background-color: white;position: relative;}#sk-container-id-2 div.sk-item::before, #sk-container-id-2 div.sk-parallel-item::before {content: \"\";position: absolute;border-left: 1px solid gray;box-sizing: border-box;top: 0;bottom: 0;left: 50%;z-index: -1;}#sk-container-id-2 div.sk-parallel-item {display: flex;flex-direction: column;z-index: 1;position: relative;background-color: white;}#sk-container-id-2 div.sk-parallel-item:first-child::after {align-self: flex-end;width: 50%;}#sk-container-id-2 div.sk-parallel-item:last-child::after {align-self: flex-start;width: 50%;}#sk-container-id-2 div.sk-parallel-item:only-child::after {width: 0;}#sk-container-id-2 div.sk-dashed-wrapped {border: 1px dashed gray;margin: 0 0.4em 0.5em 0.4em;box-sizing: border-box;padding-bottom: 0.4em;background-color: white;}#sk-container-id-2 div.sk-label label {font-family: monospace;font-weight: bold;display: inline-block;line-height: 1.2em;}#sk-container-id-2 div.sk-label-container {text-align: center;}#sk-container-id-2 div.sk-container {/* jupyter's `normalize.less` sets `[hidden] { display: none; }` but bootstrap.min.css set `[hidden] { display: none !important; }` so we also need the `!important` here to be able to override the default hidden behavior on the sphinx rendered scikit-learn.org. See: https://github.com/scikit-learn/scikit-learn/issues/21755 */display: inline-block !important;position: relative;}#sk-container-id-2 div.sk-text-repr-fallback {display: none;}</style><div id=\"sk-container-id-2\" class=\"sk-top-container\"><div class=\"sk-text-repr-fallback\"><pre>GridSearchCV(cv=5, estimator=RandomForestClassifier(random_state=42), n_jobs=-1,\n",
       "             param_grid={&#x27;max_depth&#x27;: (2, 5), &#x27;n_estimators&#x27;: range(1, 50, 5)},\n",
       "             verbose=1)</pre><b>In a Jupyter environment, please rerun this cell to show the HTML representation or trust the notebook. <br />On GitHub, the HTML representation is unable to render, please try loading this page with nbviewer.org.</b></div><div class=\"sk-container\" hidden><div class=\"sk-item sk-dashed-wrapped\"><div class=\"sk-label-container\"><div class=\"sk-label sk-toggleable\"><input class=\"sk-toggleable__control sk-hidden--visually\" id=\"sk-estimator-id-2\" type=\"checkbox\" ><label for=\"sk-estimator-id-2\" class=\"sk-toggleable__label sk-toggleable__label-arrow\">GridSearchCV</label><div class=\"sk-toggleable__content\"><pre>GridSearchCV(cv=5, estimator=RandomForestClassifier(random_state=42), n_jobs=-1,\n",
       "             param_grid={&#x27;max_depth&#x27;: (2, 5), &#x27;n_estimators&#x27;: range(1, 50, 5)},\n",
       "             verbose=1)</pre></div></div></div><div class=\"sk-parallel\"><div class=\"sk-parallel-item\"><div class=\"sk-item\"><div class=\"sk-label-container\"><div class=\"sk-label sk-toggleable\"><input class=\"sk-toggleable__control sk-hidden--visually\" id=\"sk-estimator-id-3\" type=\"checkbox\" ><label for=\"sk-estimator-id-3\" class=\"sk-toggleable__label sk-toggleable__label-arrow\">estimator: RandomForestClassifier</label><div class=\"sk-toggleable__content\"><pre>RandomForestClassifier(random_state=42)</pre></div></div></div><div class=\"sk-serial\"><div class=\"sk-item\"><div class=\"sk-estimator sk-toggleable\"><input class=\"sk-toggleable__control sk-hidden--visually\" id=\"sk-estimator-id-4\" type=\"checkbox\" ><label for=\"sk-estimator-id-4\" class=\"sk-toggleable__label sk-toggleable__label-arrow\">RandomForestClassifier</label><div class=\"sk-toggleable__content\"><pre>RandomForestClassifier(random_state=42)</pre></div></div></div></div></div></div></div></div></div></div>"
      ],
      "text/plain": [
       "GridSearchCV(cv=5, estimator=RandomForestClassifier(random_state=42), n_jobs=-1,\n",
       "             param_grid={'max_depth': (2, 5), 'n_estimators': range(1, 50, 5)},\n",
       "             verbose=1)"
      ]
     },
     "execution_count": 12,
     "metadata": {},
     "output_type": "execute_result"
    }
   ],
   "source": [
    "#Bluid model\n",
    "model = GridSearchCV(clf,param_grid=params,cv=5,n_jobs=-1,verbose=1)\n",
    "model.fit(X_train_over, y_train_over)"
   ]
  },
  {
   "cell_type": "code",
   "execution_count": 13,
   "id": "4ae5daa2",
   "metadata": {},
   "outputs": [
    {
     "name": "stdout",
     "output_type": "stream",
     "text": [
      "[0.99338061 0.99432624 0.99432356 0.99668874 0.99432356]\n"
     ]
    }
   ],
   "source": [
    "cv_scores = cross_val_score(clf,X_train_over, y_train_over,cv=5,n_jobs=-1)\n",
    "print(cv_scores)"
   ]
  },
  {
   "cell_type": "code",
   "execution_count": 14,
   "id": "ce36c7fb",
   "metadata": {},
   "outputs": [
    {
     "data": {
      "text/html": [
       "<div>\n",
       "<style scoped>\n",
       "    .dataframe tbody tr th:only-of-type {\n",
       "        vertical-align: middle;\n",
       "    }\n",
       "\n",
       "    .dataframe tbody tr th {\n",
       "        vertical-align: top;\n",
       "    }\n",
       "\n",
       "    .dataframe thead th {\n",
       "        text-align: right;\n",
       "    }\n",
       "</style>\n",
       "<table border=\"1\" class=\"dataframe\">\n",
       "  <thead>\n",
       "    <tr style=\"text-align: right;\">\n",
       "      <th></th>\n",
       "      <th>mean_fit_time</th>\n",
       "      <th>std_fit_time</th>\n",
       "      <th>mean_score_time</th>\n",
       "      <th>std_score_time</th>\n",
       "      <th>param_max_depth</th>\n",
       "      <th>param_n_estimators</th>\n",
       "      <th>params</th>\n",
       "      <th>split0_test_score</th>\n",
       "      <th>split1_test_score</th>\n",
       "      <th>split2_test_score</th>\n",
       "      <th>split3_test_score</th>\n",
       "      <th>split4_test_score</th>\n",
       "      <th>mean_test_score</th>\n",
       "      <th>std_test_score</th>\n",
       "      <th>rank_test_score</th>\n",
       "    </tr>\n",
       "  </thead>\n",
       "  <tbody>\n",
       "    <tr>\n",
       "      <th>0</th>\n",
       "      <td>0.072200</td>\n",
       "      <td>0.016233</td>\n",
       "      <td>0.015621</td>\n",
       "      <td>0.000001</td>\n",
       "      <td>2</td>\n",
       "      <td>1</td>\n",
       "      <td>{'max_depth': 2, 'n_estimators': 1}</td>\n",
       "      <td>0.814657</td>\n",
       "      <td>0.817021</td>\n",
       "      <td>0.815516</td>\n",
       "      <td>0.794702</td>\n",
       "      <td>0.823557</td>\n",
       "      <td>0.813091</td>\n",
       "      <td>0.009711</td>\n",
       "      <td>20</td>\n",
       "    </tr>\n",
       "    <tr>\n",
       "      <th>1</th>\n",
       "      <td>0.143663</td>\n",
       "      <td>0.011770</td>\n",
       "      <td>0.012498</td>\n",
       "      <td>0.006249</td>\n",
       "      <td>2</td>\n",
       "      <td>6</td>\n",
       "      <td>{'max_depth': 2, 'n_estimators': 6}</td>\n",
       "      <td>0.887470</td>\n",
       "      <td>0.880851</td>\n",
       "      <td>0.865658</td>\n",
       "      <td>0.882687</td>\n",
       "      <td>0.865658</td>\n",
       "      <td>0.876465</td>\n",
       "      <td>0.009085</td>\n",
       "      <td>11</td>\n",
       "    </tr>\n",
       "    <tr>\n",
       "      <th>2</th>\n",
       "      <td>0.206047</td>\n",
       "      <td>0.006199</td>\n",
       "      <td>0.015623</td>\n",
       "      <td>0.000004</td>\n",
       "      <td>2</td>\n",
       "      <td>11</td>\n",
       "      <td>{'max_depth': 2, 'n_estimators': 11}</td>\n",
       "      <td>0.869031</td>\n",
       "      <td>0.880378</td>\n",
       "      <td>0.850993</td>\n",
       "      <td>0.876537</td>\n",
       "      <td>0.847682</td>\n",
       "      <td>0.864924</td>\n",
       "      <td>0.013281</td>\n",
       "      <td>19</td>\n",
       "    </tr>\n",
       "    <tr>\n",
       "      <th>3</th>\n",
       "      <td>0.291260</td>\n",
       "      <td>0.008018</td>\n",
       "      <td>0.018963</td>\n",
       "      <td>0.006683</td>\n",
       "      <td>2</td>\n",
       "      <td>16</td>\n",
       "      <td>{'max_depth': 2, 'n_estimators': 16}</td>\n",
       "      <td>0.876596</td>\n",
       "      <td>0.886525</td>\n",
       "      <td>0.847209</td>\n",
       "      <td>0.880795</td>\n",
       "      <td>0.857143</td>\n",
       "      <td>0.869653</td>\n",
       "      <td>0.014948</td>\n",
       "      <td>15</td>\n",
       "    </tr>\n",
       "    <tr>\n",
       "      <th>4</th>\n",
       "      <td>0.396998</td>\n",
       "      <td>0.018910</td>\n",
       "      <td>0.019437</td>\n",
       "      <td>0.006195</td>\n",
       "      <td>2</td>\n",
       "      <td>21</td>\n",
       "      <td>{'max_depth': 2, 'n_estimators': 21}</td>\n",
       "      <td>0.884161</td>\n",
       "      <td>0.886525</td>\n",
       "      <td>0.851466</td>\n",
       "      <td>0.879376</td>\n",
       "      <td>0.853832</td>\n",
       "      <td>0.871072</td>\n",
       "      <td>0.015236</td>\n",
       "      <td>13</td>\n",
       "    </tr>\n",
       "  </tbody>\n",
       "</table>\n",
       "</div>"
      ],
      "text/plain": [
       "   mean_fit_time  std_fit_time  mean_score_time  std_score_time  \\\n",
       "0       0.072200      0.016233         0.015621        0.000001   \n",
       "1       0.143663      0.011770         0.012498        0.006249   \n",
       "2       0.206047      0.006199         0.015623        0.000004   \n",
       "3       0.291260      0.008018         0.018963        0.006683   \n",
       "4       0.396998      0.018910         0.019437        0.006195   \n",
       "\n",
       "  param_max_depth param_n_estimators                                params  \\\n",
       "0               2                  1   {'max_depth': 2, 'n_estimators': 1}   \n",
       "1               2                  6   {'max_depth': 2, 'n_estimators': 6}   \n",
       "2               2                 11  {'max_depth': 2, 'n_estimators': 11}   \n",
       "3               2                 16  {'max_depth': 2, 'n_estimators': 16}   \n",
       "4               2                 21  {'max_depth': 2, 'n_estimators': 21}   \n",
       "\n",
       "   split0_test_score  split1_test_score  split2_test_score  split3_test_score  \\\n",
       "0           0.814657           0.817021           0.815516           0.794702   \n",
       "1           0.887470           0.880851           0.865658           0.882687   \n",
       "2           0.869031           0.880378           0.850993           0.876537   \n",
       "3           0.876596           0.886525           0.847209           0.880795   \n",
       "4           0.884161           0.886525           0.851466           0.879376   \n",
       "\n",
       "   split4_test_score  mean_test_score  std_test_score  rank_test_score  \n",
       "0           0.823557         0.813091        0.009711               20  \n",
       "1           0.865658         0.876465        0.009085               11  \n",
       "2           0.847682         0.864924        0.013281               19  \n",
       "3           0.857143         0.869653        0.014948               15  \n",
       "4           0.853832         0.871072        0.015236               13  "
      ]
     },
     "execution_count": 14,
     "metadata": {},
     "output_type": "execute_result"
    }
   ],
   "source": [
    "cv_results = pd.DataFrame(model.cv_results_)\n",
    "cv_results.head(5)"
   ]
  },
  {
   "cell_type": "code",
   "execution_count": 15,
   "id": "9523d4ca",
   "metadata": {},
   "outputs": [
    {
     "name": "stdout",
     "output_type": "stream",
     "text": [
      "{'max_depth': 5, 'n_estimators': 16}\n"
     ]
    }
   ],
   "source": [
    "best_params = model.best_params_\n",
    "print(best_params)"
   ]
  },
  {
   "cell_type": "code",
   "execution_count": 16,
   "id": "c6bfab14",
   "metadata": {},
   "outputs": [
    {
     "name": "stdout",
     "output_type": "stream",
     "text": [
      "Model Training Accuracy: 0.9276\n",
      "Model Test Accuracy: 0.912\n"
     ]
    }
   ],
   "source": [
    "acc_train = model.score(X_train,y_train)\n",
    "acc_test = model.score(X_test,y_test)\n",
    "\n",
    "print(\"Model Training Accuracy:\", round(acc_train, 4))\n",
    "print(\"Model Test Accuracy:\", round(acc_test, 4))"
   ]
  },
  {
   "cell_type": "code",
   "execution_count": 17,
   "id": "f0798e89",
   "metadata": {},
   "outputs": [
    {
     "name": "stdout",
     "output_type": "stream",
     "text": [
      "Model Training Accuracy: 0.9555\n",
      "Model Test Accuracy: 0.912\n"
     ]
    }
   ],
   "source": [
    "acc_train = model.score(X_train_over,y_train_over)\n",
    "acc_test = model.score(X_test,y_test)\n",
    "\n",
    "print(\"Model Training Accuracy:\", round(acc_train, 4))\n",
    "print(\"Model Test Accuracy:\", round(acc_test, 4))"
   ]
  },
  {
   "cell_type": "code",
   "execution_count": 18,
   "id": "d2cb7869",
   "metadata": {},
   "outputs": [
    {
     "data": {
      "text/plain": [
       "<sklearn.metrics._plot.confusion_matrix.ConfusionMatrixDisplay at 0x1adef00f4d0>"
      ]
     },
     "execution_count": 18,
     "metadata": {},
     "output_type": "execute_result"
    },
    {
     "data": {
      "image/png": "[encoded data removed]",
      "text/plain": [
       "<Figure size 640x480 with 2 Axes>"
      ]
     },
     "metadata": {},
     "output_type": "display_data"
    }
   ],
   "source": [
    "ConfusionMatrixDisplay.from_estimator(model,X_test,y_test)"
   ]
  },
  {
   "cell_type": "code",
   "execution_count": 19,
   "id": "0da7dc63",
   "metadata": {},
   "outputs": [
    {
     "name": "stdout",
     "output_type": "stream",
     "text": [
      "              precision    recall  f1-score   support\n",
      "\n",
      "           0       0.99      0.92      0.95      1313\n",
      "           1       0.27      0.76      0.39        51\n",
      "\n",
      "    accuracy                           0.91      1364\n",
      "   macro avg       0.63      0.84      0.67      1364\n",
      "weighted avg       0.96      0.91      0.93      1364\n",
      "\n"
     ]
    }
   ],
   "source": [
    "class_report = classification_report(y_test, model.predict(X_test))\n",
    "print(class_report)"
   ]
  },
  {
   "cell_type": "code",
   "execution_count": 20,
   "id": "bb944eb9",
   "metadata": {},
   "outputs": [
    {
     "data": {
      "text/html": [
       "<style>#sk-container-id-3 {color: black;background-color: white;}#sk-container-id-3 pre{padding: 0;}#sk-container-id-3 div.sk-toggleable {background-color: white;}#sk-container-id-3 label.sk-toggleable__label {cursor: pointer;display: block;width: 100%;margin-bottom: 0;padding: 0.3em;box-sizing: border-box;text-align: center;}#sk-container-id-3 label.sk-toggleable__label-arrow:before {content: \"▸\";float: left;margin-right: 0.25em;color: #696969;}#sk-container-id-3 label.sk-toggleable__label-arrow:hover:before {color: black;}#sk-container-id-3 div.sk-estimator:hover label.sk-toggleable__label-arrow:before {color: black;}#sk-container-id-3 div.sk-toggleable__content {max-height: 0;max-width: 0;overflow: hidden;text-align: left;background-color: #f0f8ff;}#sk-container-id-3 div.sk-toggleable__content pre {margin: 0.2em;color: black;border-radius: 0.25em;background-color: #f0f8ff;}#sk-container-id-3 input.sk-toggleable__control:checked~div.sk-toggleable__content {max-height: 200px;max-width: 100%;overflow: auto;}#sk-container-id-3 input.sk-toggleable__control:checked~label.sk-toggleable__label-arrow:before {content: \"▾\";}#sk-container-id-3 div.sk-estimator input.sk-toggleable__control:checked~label.sk-toggleable__label {background-color: #d4ebff;}#sk-container-id-3 div.sk-label input.sk-toggleable__control:checked~label.sk-toggleable__label {background-color: #d4ebff;}#sk-container-id-3 input.sk-hidden--visually {border: 0;clip: rect(1px 1px 1px 1px);clip: rect(1px, 1px, 1px, 1px);height: 1px;margin: -1px;overflow: hidden;padding: 0;position: absolute;width: 1px;}#sk-container-id-3 div.sk-estimator {font-family: monospace;background-color: #f0f8ff;border: 1px dotted black;border-radius: 0.25em;box-sizing: border-box;margin-bottom: 0.5em;}#sk-container-id-3 div.sk-estimator:hover {background-color: #d4ebff;}#sk-container-id-3 div.sk-parallel-item::after {content: \"\";width: 100%;border-bottom: 1px solid gray;flex-grow: 1;}#sk-container-id-3 div.sk-label:hover label.sk-toggleable__label {background-color: #d4ebff;}#sk-container-id-3 div.sk-serial::before {content: \"\";position: absolute;border-left: 1px solid gray;box-sizing: border-box;top: 0;bottom: 0;left: 50%;z-index: 0;}#sk-container-id-3 div.sk-serial {display: flex;flex-direction: column;align-items: center;background-color: white;padding-right: 0.2em;padding-left: 0.2em;position: relative;}#sk-container-id-3 div.sk-item {position: relative;z-index: 1;}#sk-container-id-3 div.sk-parallel {display: flex;align-items: stretch;justify-content: center;background-color: white;position: relative;}#sk-container-id-3 div.sk-item::before, #sk-container-id-3 div.sk-parallel-item::before {content: \"\";position: absolute;border-left: 1px solid gray;box-sizing: border-box;top: 0;bottom: 0;left: 50%;z-index: -1;}#sk-container-id-3 div.sk-parallel-item {display: flex;flex-direction: column;z-index: 1;position: relative;background-color: white;}#sk-container-id-3 div.sk-parallel-item:first-child::after {align-self: flex-end;width: 50%;}#sk-container-id-3 div.sk-parallel-item:last-child::after {align-self: flex-start;width: 50%;}#sk-container-id-3 div.sk-parallel-item:only-child::after {width: 0;}#sk-container-id-3 div.sk-dashed-wrapped {border: 1px dashed gray;margin: 0 0.4em 0.5em 0.4em;box-sizing: border-box;padding-bottom: 0.4em;background-color: white;}#sk-container-id-3 div.sk-label label {font-family: monospace;font-weight: bold;display: inline-block;line-height: 1.2em;}#sk-container-id-3 div.sk-label-container {text-align: center;}#sk-container-id-3 div.sk-container {/* jupyter's `normalize.less` sets `[hidden] { display: none; }` but bootstrap.min.css set `[hidden] { display: none !important; }` so we also need the `!important` here to be able to override the default hidden behavior on the sphinx rendered scikit-learn.org. See: https://github.com/scikit-learn/scikit-learn/issues/21755 */display: inline-block !important;position: relative;}#sk-container-id-3 div.sk-text-repr-fallback {display: none;}</style><div id=\"sk-container-id-3\" class=\"sk-top-container\"><div class=\"sk-text-repr-fallback\"><pre>RandomForestClassifier(max_depth=5, n_estimators=16, random_state=42)</pre><b>In a Jupyter environment, please rerun this cell to show the HTML representation or trust the notebook. <br />On GitHub, the HTML representation is unable to render, please try loading this page with nbviewer.org.</b></div><div class=\"sk-container\" hidden><div class=\"sk-item\"><div class=\"sk-estimator sk-toggleable\"><input class=\"sk-toggleable__control sk-hidden--visually\" id=\"sk-estimator-id-5\" type=\"checkbox\" checked><label for=\"sk-estimator-id-5\" class=\"sk-toggleable__label sk-toggleable__label-arrow\">RandomForestClassifier</label><div class=\"sk-toggleable__content\"><pre>RandomForestClassifier(max_depth=5, n_estimators=16, random_state=42)</pre></div></div></div></div></div>"
      ],
      "text/plain": [
       "RandomForestClassifier(max_depth=5, n_estimators=16, random_state=42)"
      ]
     },
     "execution_count": 20,
     "metadata": {},
     "output_type": "execute_result"
    }
   ],
   "source": [
    "importance = model.best_estimator_\n",
    "importance"
   ]
  },
  {
   "cell_type": "code",
   "execution_count": 21,
   "id": "120d5fc8",
   "metadata": {},
   "outputs": [
    {
     "data": {
      "text/plain": [
       "<Axes: >"
      ]
     },
     "execution_count": 21,
     "metadata": {},
     "output_type": "execute_result"
    },
    {
     "data": {
      "image/png": "[encoded data removed]",
      "text/plain": [
       "<Figure size 640x480 with 1 Axes>"
      ]
     },
     "metadata": {},
     "output_type": "display_data"
    }
   ],
   "source": [
    "features = X_train.columns\n",
    "importances = model.best_estimator_.feature_importances_\n",
    "feature_importance = pd.Series(importances,index=features).sort_values()\n",
    "feature_importance.tail(15).plot(kind=\"barh\")"
   ]
  },
  {
   "cell_type": "code",
   "execution_count": 22,
   "id": "5c29e6cd-28ce-46ee-acb6-15493afe8811",
   "metadata": {},
   "outputs": [],
   "source": [
    "pickle.dump(importance, open('model.pkl', 'wb'))"
   ]
  },
  {
   "cell_type": "code",
   "execution_count": 23,
   "id": "7a4a3664",
   "metadata": {},
   "outputs": [
    {
     "data": {
      "text/plain": [
       "array([6.26598275e-03, 3.82256963e-02, 1.25084403e-02, 4.54958160e-03,\n",
       "       1.45452814e-03, 1.62378157e-03, 3.41098059e-02, 1.70512058e-02,\n",
       "       1.33777886e-02, 1.42082454e-02, 5.30333995e-04, 0.00000000e+00,\n",
       "       8.94459696e-04, 6.83729343e-03, 2.33785059e-02, 2.72082414e-03,\n",
       "       2.45379040e-02, 8.06867261e-03, 7.07453429e-02, 1.07953728e-03,\n",
       "       1.28768947e-03, 1.72756850e-05, 1.56653327e-03, 0.00000000e+00,\n",
       "       1.57387680e-03, 1.17556391e-02, 0.00000000e+00, 1.54495460e-03,\n",
       "       1.42466965e-03, 3.77659976e-03, 3.16965006e-04, 1.24908737e-03,\n",
       "       5.00896608e-03, 1.24715120e-02, 1.10078087e-02, 3.24565451e-02,\n",
       "       1.23706894e-02, 1.45940554e-02, 4.54016680e-03, 9.49522827e-02,\n",
       "       0.00000000e+00, 2.87236308e-03, 5.18973482e-03, 3.12134645e-03,\n",
       "       2.78459572e-03, 7.08244634e-03, 4.94823770e-03, 0.00000000e+00,\n",
       "       1.91631116e-03, 4.00184096e-03, 1.76867193e-03, 4.46779110e-03,\n",
       "       7.91803468e-03, 5.46446203e-04, 3.86289824e-03, 2.38531193e-03,\n",
       "       4.39098515e-03, 2.54952121e-03, 3.32411617e-03, 1.03225644e-03,\n",
       "       7.60573962e-04, 5.17976598e-03, 2.23153237e-03, 2.21837185e-03,\n",
       "       1.82892300e-03, 1.30737897e-02, 3.32027207e-03, 6.36751450e-02,\n",
       "       7.08441450e-02, 4.17383620e-03, 8.86802737e-04, 1.38382137e-03,\n",
       "       1.98490609e-03, 3.12228361e-03, 4.25547157e-03, 7.05309398e-04,\n",
       "       7.57683342e-04, 7.86712086e-04, 8.98160098e-03, 2.79788483e-03,\n",
       "       1.53737359e-03, 2.78685486e-03, 3.13632409e-04, 2.70759587e-02,\n",
       "       0.00000000e+00, 1.23122429e-01, 1.49976335e-03, 8.39056880e-04,\n",
       "       2.46397796e-03, 5.65149435e-03, 4.63568754e-02, 3.95594278e-03,\n",
       "       4.72791074e-03, 0.00000000e+00, 2.84537427e-02])"
      ]
     },
     "execution_count": 23,
     "metadata": {},
     "output_type": "execute_result"
    }
   ],
   "source": [
    "importances = model.best_estimator_.feature_importances_\n",
    "importances"
   ]
  },
  {
   "cell_type": "code",
   "execution_count": 24,
   "id": "5acce3f2",
   "metadata": {},
   "outputs": [],
   "source": [
    "# Add make_predictions function \n",
    "def make_predictions(data_filepath, model_filepath):\n",
    "    # Wrangle JSON file\n",
    "    X_test = wrangle(data_filepath)\n",
    "    # Load model\n",
    "    with open(model_filepath,\"rb\") as f:\n",
    "        model = pickle.load(f)\n",
    "    # Generate predictions\n",
    "    y_test_pred = model.predict(X_test)\n",
    "    # Put predictions into Series with name \"bankrupt\", and same index as X_test\n",
    "    y_test_pred = pd.Series(y_test_pred,index=X_test.index,name=\"bankrupt\")\n",
    "    return y_test_pred"
   ]
  },
  {
   "cell_type": "code",
   "execution_count": 25,
   "id": "957f520f",
   "metadata": {},
   "outputs": [
    {
     "ename": "ModuleNotFoundError",
     "evalue": "No module named 'my_predictor_assignment'",
     "output_type": "error",
     "traceback": [
      "\u001b[1;31m---------------------------------------------------------------------------\u001b[0m",
      "\u001b[1;31mModuleNotFoundError\u001b[0m                       Traceback (most recent call last)",
      "Cell \u001b[1;32mIn[25], line 2\u001b[0m\n\u001b[0;32m      1\u001b[0m \u001b[38;5;66;03m# Import your module\u001b[39;00m\n\u001b[1;32m----> 2\u001b[0m \u001b[38;5;28;01mfrom\u001b[39;00m \u001b[38;5;21;01mmy_predictor_assignment\u001b[39;00m \u001b[38;5;28;01mimport\u001b[39;00m make_predictions\n\u001b[0;32m      4\u001b[0m \u001b[38;5;66;03m# Generate predictions\u001b[39;00m\n\u001b[0;32m      5\u001b[0m y_test_pred \u001b[38;5;241m=\u001b[39m make_predictions(\n\u001b[0;32m      6\u001b[0m     data_filepath\u001b[38;5;241m=\u001b[39m\u001b[38;5;124m\"\u001b[39m\u001b[38;5;124mdata/taiwan-bankruptcy-data-test-features.json.gz\u001b[39m\u001b[38;5;124m\"\u001b[39m,\n\u001b[0;32m      7\u001b[0m     model_filepath\u001b[38;5;241m=\u001b[39m\u001b[38;5;124m\"\u001b[39m\u001b[38;5;124mmodel.pkl\u001b[39m\u001b[38;5;124m\"\u001b[39m,\n\u001b[0;32m      8\u001b[0m )\n",
      "\u001b[1;31mModuleNotFoundError\u001b[0m: No module named 'my_predictor_assignment'"
     ]
    }
   ],
   "source": [
    "# Import your module\n",
    "from my_predictor_assignment import make_predictions\n",
    "\n",
    "# Generate predictions\n",
    "y_test_pred = make_predictions(\n",
    "    data_filepath=\"data/\n",
    "    \n",
    "    \",\n",
    "    model_filepath=\"model.pkl\",\n",
    ")\n",
    "\n",
    "print(\"predictions shape:\", y_test_pred.shape)\n",
    "y_test_pred.head()"
   ]
  },
  {
   "cell_type": "code",
   "execution_count": 47,
   "id": "dad9e840-f1b4-4f9d-bf76-b6a1d05b9542",
   "metadata": {},
   "outputs": [
    {
     "data": {
      "text/html": [
       "<div>\n",
       "<style scoped>\n",
       "    .dataframe tbody tr th:only-of-type {\n",
       "        vertical-align: middle;\n",
       "    }\n",
       "\n",
       "    .dataframe tbody tr th {\n",
       "        vertical-align: top;\n",
       "    }\n",
       "\n",
       "    .dataframe thead th {\n",
       "        text-align: right;\n",
       "    }\n",
       "</style>\n",
       "<table border=\"1\" class=\"dataframe\">\n",
       "  <thead>\n",
       "    <tr style=\"text-align: right;\">\n",
       "      <th></th>\n",
       "      <th>ROA(C) before interest and depreciation before interest</th>\n",
       "      <th>ROA(A) before interest and % after tax</th>\n",
       "      <th>ROA(B) before interest and depreciation after tax</th>\n",
       "      <th>Operating Gross Margin</th>\n",
       "      <th>Realized Sales Gross Margin</th>\n",
       "      <th>Operating Profit Rate</th>\n",
       "      <th>Pre-tax net Interest Rate</th>\n",
       "      <th>After-tax net Interest Rate</th>\n",
       "      <th>Non-industry income and expenditure/revenue</th>\n",
       "      <th>Continuous interest rate (after tax)</th>\n",
       "      <th>...</th>\n",
       "      <th>Net Income to Total Assets</th>\n",
       "      <th>Total assets to GNP price</th>\n",
       "      <th>No-credit Interval</th>\n",
       "      <th>Gross Profit to Sales</th>\n",
       "      <th>Net Income to Stockholder's Equity</th>\n",
       "      <th>Liability to Equity</th>\n",
       "      <th>Degree of Financial Leverage (DFL)</th>\n",
       "      <th>Interest Coverage Ratio (Interest expense to EBIT)</th>\n",
       "      <th>Net Income Flag</th>\n",
       "      <th>Equity to Liability</th>\n",
       "    </tr>\n",
       "  </thead>\n",
       "  <tbody>\n",
       "    <tr>\n",
       "      <th>0</th>\n",
       "      <td>0.498513</td>\n",
       "      <td>0.542848</td>\n",
       "      <td>0.544622</td>\n",
       "      <td>0.599194</td>\n",
       "      <td>0.599036</td>\n",
       "      <td>0.998986</td>\n",
       "      <td>0.797412</td>\n",
       "      <td>0.809330</td>\n",
       "      <td>0.303528</td>\n",
       "      <td>0.781593</td>\n",
       "      <td>...</td>\n",
       "      <td>0.801313</td>\n",
       "      <td>0.005821</td>\n",
       "      <td>0.623649</td>\n",
       "      <td>0.599196</td>\n",
       "      <td>0.840580</td>\n",
       "      <td>0.282564</td>\n",
       "      <td>0.027239</td>\n",
       "      <td>0.566658</td>\n",
       "      <td>1</td>\n",
       "      <td>0.022512</td>\n",
       "    </tr>\n",
       "    <tr>\n",
       "      <th>1</th>\n",
       "      <td>0.506606</td>\n",
       "      <td>0.562309</td>\n",
       "      <td>0.558863</td>\n",
       "      <td>0.609334</td>\n",
       "      <td>0.609334</td>\n",
       "      <td>0.999027</td>\n",
       "      <td>0.797450</td>\n",
       "      <td>0.809375</td>\n",
       "      <td>0.303508</td>\n",
       "      <td>0.781637</td>\n",
       "      <td>...</td>\n",
       "      <td>0.810914</td>\n",
       "      <td>0.000481</td>\n",
       "      <td>0.623932</td>\n",
       "      <td>0.609332</td>\n",
       "      <td>0.841339</td>\n",
       "      <td>0.280570</td>\n",
       "      <td>0.026843</td>\n",
       "      <td>0.565395</td>\n",
       "      <td>1</td>\n",
       "      <td>0.026670</td>\n",
       "    </tr>\n",
       "    <tr>\n",
       "      <th>2</th>\n",
       "      <td>0.508799</td>\n",
       "      <td>0.561001</td>\n",
       "      <td>0.554687</td>\n",
       "      <td>0.614242</td>\n",
       "      <td>0.614055</td>\n",
       "      <td>0.999094</td>\n",
       "      <td>0.797533</td>\n",
       "      <td>0.809424</td>\n",
       "      <td>0.303514</td>\n",
       "      <td>0.781692</td>\n",
       "      <td>...</td>\n",
       "      <td>0.809740</td>\n",
       "      <td>0.001397</td>\n",
       "      <td>0.623714</td>\n",
       "      <td>0.614241</td>\n",
       "      <td>0.840969</td>\n",
       "      <td>0.277772</td>\n",
       "      <td>0.026864</td>\n",
       "      <td>0.565484</td>\n",
       "      <td>1</td>\n",
       "      <td>0.041556</td>\n",
       "    </tr>\n",
       "    <tr>\n",
       "      <th>3</th>\n",
       "      <td>0.499976</td>\n",
       "      <td>0.562527</td>\n",
       "      <td>0.546764</td>\n",
       "      <td>0.597825</td>\n",
       "      <td>0.597825</td>\n",
       "      <td>0.999004</td>\n",
       "      <td>0.797411</td>\n",
       "      <td>0.809329</td>\n",
       "      <td>0.303490</td>\n",
       "      <td>0.781590</td>\n",
       "      <td>...</td>\n",
       "      <td>0.810082</td>\n",
       "      <td>0.000998</td>\n",
       "      <td>0.623986</td>\n",
       "      <td>0.597824</td>\n",
       "      <td>0.841885</td>\n",
       "      <td>0.286871</td>\n",
       "      <td>0.026951</td>\n",
       "      <td>0.565820</td>\n",
       "      <td>1</td>\n",
       "      <td>0.018173</td>\n",
       "    </tr>\n",
       "    <tr>\n",
       "      <th>4</th>\n",
       "      <td>0.477892</td>\n",
       "      <td>0.547700</td>\n",
       "      <td>0.529150</td>\n",
       "      <td>0.600362</td>\n",
       "      <td>0.600362</td>\n",
       "      <td>0.998975</td>\n",
       "      <td>0.797412</td>\n",
       "      <td>0.809333</td>\n",
       "      <td>0.303551</td>\n",
       "      <td>0.781584</td>\n",
       "      <td>...</td>\n",
       "      <td>0.804638</td>\n",
       "      <td>0.002826</td>\n",
       "      <td>0.623845</td>\n",
       "      <td>0.600363</td>\n",
       "      <td>0.840885</td>\n",
       "      <td>0.282073</td>\n",
       "      <td>0.026959</td>\n",
       "      <td>0.565848</td>\n",
       "      <td>1</td>\n",
       "      <td>0.023328</td>\n",
       "    </tr>\n",
       "  </tbody>\n",
       "</table>\n",
       "<p>5 rows × 95 columns</p>\n",
       "</div>"
      ],
      "text/plain": [
       "    ROA(C) before interest and depreciation before interest  \\\n",
       "0                                           0.498513          \n",
       "1                                           0.506606          \n",
       "2                                           0.508799          \n",
       "3                                           0.499976          \n",
       "4                                           0.477892          \n",
       "\n",
       "    ROA(A) before interest and % after tax  \\\n",
       "0                                 0.542848   \n",
       "1                                 0.562309   \n",
       "2                                 0.561001   \n",
       "3                                 0.562527   \n",
       "4                                 0.547700   \n",
       "\n",
       "    ROA(B) before interest and depreciation after tax  \\\n",
       "0                                           0.544622    \n",
       "1                                           0.558863    \n",
       "2                                           0.554687    \n",
       "3                                           0.546764    \n",
       "4                                           0.529150    \n",
       "\n",
       "    Operating Gross Margin   Realized Sales Gross Margin  \\\n",
       "0                 0.599194                      0.599036   \n",
       "1                 0.609334                      0.609334   \n",
       "2                 0.614242                      0.614055   \n",
       "3                 0.597825                      0.597825   \n",
       "4                 0.600362                      0.600362   \n",
       "\n",
       "    Operating Profit Rate   Pre-tax net Interest Rate  \\\n",
       "0                0.998986                    0.797412   \n",
       "1                0.999027                    0.797450   \n",
       "2                0.999094                    0.797533   \n",
       "3                0.999004                    0.797411   \n",
       "4                0.998975                    0.797412   \n",
       "\n",
       "    After-tax net Interest Rate   Non-industry income and expenditure/revenue  \\\n",
       "0                      0.809330                                      0.303528   \n",
       "1                      0.809375                                      0.303508   \n",
       "2                      0.809424                                      0.303514   \n",
       "3                      0.809329                                      0.303490   \n",
       "4                      0.809333                                      0.303551   \n",
       "\n",
       "    Continuous interest rate (after tax)  ...   Net Income to Total Assets  \\\n",
       "0                               0.781593  ...                     0.801313   \n",
       "1                               0.781637  ...                     0.810914   \n",
       "2                               0.781692  ...                     0.809740   \n",
       "3                               0.781590  ...                     0.810082   \n",
       "4                               0.781584  ...                     0.804638   \n",
       "\n",
       "    Total assets to GNP price   No-credit Interval   Gross Profit to Sales  \\\n",
       "0                    0.005821             0.623649                0.599196   \n",
       "1                    0.000481             0.623932                0.609332   \n",
       "2                    0.001397             0.623714                0.614241   \n",
       "3                    0.000998             0.623986                0.597824   \n",
       "4                    0.002826             0.623845                0.600363   \n",
       "\n",
       "    Net Income to Stockholder's Equity   Liability to Equity  \\\n",
       "0                             0.840580              0.282564   \n",
       "1                             0.841339              0.280570   \n",
       "2                             0.840969              0.277772   \n",
       "3                             0.841885              0.286871   \n",
       "4                             0.840885              0.282073   \n",
       "\n",
       "    Degree of Financial Leverage (DFL)  \\\n",
       "0                             0.027239   \n",
       "1                             0.026843   \n",
       "2                             0.026864   \n",
       "3                             0.026951   \n",
       "4                             0.026959   \n",
       "\n",
       "    Interest Coverage Ratio (Interest expense to EBIT)   Net Income Flag  \\\n",
       "0                                           0.566658                   1   \n",
       "1                                           0.565395                   1   \n",
       "2                                           0.565484                   1   \n",
       "3                                           0.565820                   1   \n",
       "4                                           0.565848                   1   \n",
       "\n",
       "    Equity to Liability  \n",
       "0              0.022512  \n",
       "1              0.026670  \n",
       "2              0.041556  \n",
       "3              0.018173  \n",
       "4              0.023328  \n",
       "\n",
       "[5 rows x 95 columns]"
      ]
     },
     "execution_count": 47,
     "metadata": {},
     "output_type": "execute_result"
    }
   ],
   "source": [
    "new_df = X_train_over.copy()\n",
    "new_df.head()"
   ]
  },
  {
   "cell_type": "code",
   "execution_count": 50,
   "id": "9c34264a",
   "metadata": {},
   "outputs": [],
   "source": [
    "# Train another model with the most important features and best estimator parameters\n",
    "list_features =  ['Net Income to Total Assets','Borrowing_dependency','Total income/Total expense','Persistent EPS in the Last Four Seasons','ROA(A) before interest and % after tax','Retained Earnings to Total Assets','Liability to Equity','Total debt/Total net worth','Equity to Liability','Pre-tax net Interest Rate']\n",
    "\n",
    "# for x in list_features:\n",
    "#     new = news_df.drop(columns=x)\n",
    "#     dfs = new[list_features]\n",
    "# dfs.head()\n"
   ]
  },
  {
   "cell_type": "code",
   "execution_count": 57,
   "id": "4121e198-7dc2-4645-93be-c14645e92a5e",
   "metadata": {},
   "outputs": [
    {
     "ename": "KeyError",
     "evalue": "\"['Net Income to Total Assets', 'Borrowing_dependency', 'Total income/Total expense', 'Persistent EPS in the Last Four Seasons', 'ROA(A) before interest and % after tax', 'Retained Earnings to Total Assets', 'Liability to Equity', 'Total debt/Total net worth', 'Equity to Liability', 'Pre-tax net Interest Rate'] not found in axis\"",
     "output_type": "error",
     "traceback": [
      "\u001b[1;31m---------------------------------------------------------------------------\u001b[0m",
      "\u001b[1;31mKeyError\u001b[0m                                  Traceback (most recent call last)",
      "Cell \u001b[1;32mIn[57], line 1\u001b[0m\n\u001b[1;32m----> 1\u001b[0m new_df\u001b[38;5;241m.\u001b[39mdrop(columns\u001b[38;5;241m=\u001b[39mlist_features,inplace\u001b[38;5;241m=\u001b[39m\u001b[38;5;28;01mTrue\u001b[39;00m)\n",
      "File \u001b[1;32m~\\anaconda3\\Lib\\site-packages\\pandas\\core\\frame.py:5344\u001b[0m, in \u001b[0;36mDataFrame.drop\u001b[1;34m(self, labels, axis, index, columns, level, inplace, errors)\u001b[0m\n\u001b[0;32m   5196\u001b[0m \u001b[38;5;28;01mdef\u001b[39;00m \u001b[38;5;21mdrop\u001b[39m(\n\u001b[0;32m   5197\u001b[0m     \u001b[38;5;28mself\u001b[39m,\n\u001b[0;32m   5198\u001b[0m     labels: IndexLabel \u001b[38;5;241m|\u001b[39m \u001b[38;5;28;01mNone\u001b[39;00m \u001b[38;5;241m=\u001b[39m \u001b[38;5;28;01mNone\u001b[39;00m,\n\u001b[1;32m   (...)\u001b[0m\n\u001b[0;32m   5205\u001b[0m     errors: IgnoreRaise \u001b[38;5;241m=\u001b[39m \u001b[38;5;124m\"\u001b[39m\u001b[38;5;124mraise\u001b[39m\u001b[38;5;124m\"\u001b[39m,\n\u001b[0;32m   5206\u001b[0m ) \u001b[38;5;241m-\u001b[39m\u001b[38;5;241m>\u001b[39m DataFrame \u001b[38;5;241m|\u001b[39m \u001b[38;5;28;01mNone\u001b[39;00m:\n\u001b[0;32m   5207\u001b[0m \u001b[38;5;250m    \u001b[39m\u001b[38;5;124;03m\"\"\"\u001b[39;00m\n\u001b[0;32m   5208\u001b[0m \u001b[38;5;124;03m    Drop specified labels from rows or columns.\u001b[39;00m\n\u001b[0;32m   5209\u001b[0m \n\u001b[1;32m   (...)\u001b[0m\n\u001b[0;32m   5342\u001b[0m \u001b[38;5;124;03m            weight  1.0     0.8\u001b[39;00m\n\u001b[0;32m   5343\u001b[0m \u001b[38;5;124;03m    \"\"\"\u001b[39;00m\n\u001b[1;32m-> 5344\u001b[0m     \u001b[38;5;28;01mreturn\u001b[39;00m \u001b[38;5;28msuper\u001b[39m()\u001b[38;5;241m.\u001b[39mdrop(\n\u001b[0;32m   5345\u001b[0m         labels\u001b[38;5;241m=\u001b[39mlabels,\n\u001b[0;32m   5346\u001b[0m         axis\u001b[38;5;241m=\u001b[39maxis,\n\u001b[0;32m   5347\u001b[0m         index\u001b[38;5;241m=\u001b[39mindex,\n\u001b[0;32m   5348\u001b[0m         columns\u001b[38;5;241m=\u001b[39mcolumns,\n\u001b[0;32m   5349\u001b[0m         level\u001b[38;5;241m=\u001b[39mlevel,\n\u001b[0;32m   5350\u001b[0m         inplace\u001b[38;5;241m=\u001b[39minplace,\n\u001b[0;32m   5351\u001b[0m         errors\u001b[38;5;241m=\u001b[39merrors,\n\u001b[0;32m   5352\u001b[0m     )\n",
      "File \u001b[1;32m~\\anaconda3\\Lib\\site-packages\\pandas\\core\\generic.py:4711\u001b[0m, in \u001b[0;36mNDFrame.drop\u001b[1;34m(self, labels, axis, index, columns, level, inplace, errors)\u001b[0m\n\u001b[0;32m   4709\u001b[0m \u001b[38;5;28;01mfor\u001b[39;00m axis, labels \u001b[38;5;129;01min\u001b[39;00m axes\u001b[38;5;241m.\u001b[39mitems():\n\u001b[0;32m   4710\u001b[0m     \u001b[38;5;28;01mif\u001b[39;00m labels \u001b[38;5;129;01mis\u001b[39;00m \u001b[38;5;129;01mnot\u001b[39;00m \u001b[38;5;28;01mNone\u001b[39;00m:\n\u001b[1;32m-> 4711\u001b[0m         obj \u001b[38;5;241m=\u001b[39m obj\u001b[38;5;241m.\u001b[39m_drop_axis(labels, axis, level\u001b[38;5;241m=\u001b[39mlevel, errors\u001b[38;5;241m=\u001b[39merrors)\n\u001b[0;32m   4713\u001b[0m \u001b[38;5;28;01mif\u001b[39;00m inplace:\n\u001b[0;32m   4714\u001b[0m     \u001b[38;5;28mself\u001b[39m\u001b[38;5;241m.\u001b[39m_update_inplace(obj)\n",
      "File \u001b[1;32m~\\anaconda3\\Lib\\site-packages\\pandas\\core\\generic.py:4753\u001b[0m, in \u001b[0;36mNDFrame._drop_axis\u001b[1;34m(self, labels, axis, level, errors, only_slice)\u001b[0m\n\u001b[0;32m   4751\u001b[0m         new_axis \u001b[38;5;241m=\u001b[39m axis\u001b[38;5;241m.\u001b[39mdrop(labels, level\u001b[38;5;241m=\u001b[39mlevel, errors\u001b[38;5;241m=\u001b[39merrors)\n\u001b[0;32m   4752\u001b[0m     \u001b[38;5;28;01melse\u001b[39;00m:\n\u001b[1;32m-> 4753\u001b[0m         new_axis \u001b[38;5;241m=\u001b[39m axis\u001b[38;5;241m.\u001b[39mdrop(labels, errors\u001b[38;5;241m=\u001b[39merrors)\n\u001b[0;32m   4754\u001b[0m     indexer \u001b[38;5;241m=\u001b[39m axis\u001b[38;5;241m.\u001b[39mget_indexer(new_axis)\n\u001b[0;32m   4756\u001b[0m \u001b[38;5;66;03m# Case for non-unique axis\u001b[39;00m\n\u001b[0;32m   4757\u001b[0m \u001b[38;5;28;01melse\u001b[39;00m:\n",
      "File \u001b[1;32m~\\anaconda3\\Lib\\site-packages\\pandas\\core\\indexes\\base.py:7000\u001b[0m, in \u001b[0;36mIndex.drop\u001b[1;34m(self, labels, errors)\u001b[0m\n\u001b[0;32m   6998\u001b[0m \u001b[38;5;28;01mif\u001b[39;00m mask\u001b[38;5;241m.\u001b[39many():\n\u001b[0;32m   6999\u001b[0m     \u001b[38;5;28;01mif\u001b[39;00m errors \u001b[38;5;241m!=\u001b[39m \u001b[38;5;124m\"\u001b[39m\u001b[38;5;124mignore\u001b[39m\u001b[38;5;124m\"\u001b[39m:\n\u001b[1;32m-> 7000\u001b[0m         \u001b[38;5;28;01mraise\u001b[39;00m \u001b[38;5;167;01mKeyError\u001b[39;00m(\u001b[38;5;124mf\u001b[39m\u001b[38;5;124m\"\u001b[39m\u001b[38;5;132;01m{\u001b[39;00mlabels[mask]\u001b[38;5;241m.\u001b[39mtolist()\u001b[38;5;132;01m}\u001b[39;00m\u001b[38;5;124m not found in axis\u001b[39m\u001b[38;5;124m\"\u001b[39m)\n\u001b[0;32m   7001\u001b[0m     indexer \u001b[38;5;241m=\u001b[39m indexer[\u001b[38;5;241m~\u001b[39mmask]\n\u001b[0;32m   7002\u001b[0m \u001b[38;5;28;01mreturn\u001b[39;00m \u001b[38;5;28mself\u001b[39m\u001b[38;5;241m.\u001b[39mdelete(indexer)\n",
      "\u001b[1;31mKeyError\u001b[0m: \"['Net Income to Total Assets', 'Borrowing_dependency', 'Total income/Total expense', 'Persistent EPS in the Last Four Seasons', 'ROA(A) before interest and % after tax', 'Retained Earnings to Total Assets', 'Liability to Equity', 'Total debt/Total net worth', 'Equity to Liability', 'Pre-tax net Interest Rate'] not found in axis\""
     ]
    }
   ],
   "source": [
    "new_df.drop(columns=list_features,inplace=True)\n",
    "\n"
   ]
  },
  {
   "cell_type": "code",
   "execution_count": 51,
   "id": "3db61796-648f-4fbf-9f34-a760458d6dee",
   "metadata": {},
   "outputs": [],
   "source": [
    "\n",
    "df = new_df[new_df.columns.intersection(list_features)]"
   ]
  },
  {
   "cell_type": "code",
   "execution_count": 53,
   "id": "d4589bd2-5966-484b-b9f5-a52bc86213f2",
   "metadata": {},
   "outputs": [
    {
     "name": "stdout",
     "output_type": "stream",
     "text": [
      "Empty DataFrame\n",
      "Columns: []\n",
      "Index: [0, 1, 2, 3, 4, 5, 6, 7, 8, 9, 10, 11, 12, 13, 14, 15, 16, 17, 18, 19, 20, 21, 22, 23, 24, 25, 26, 27, 28, 29, 30, 31, 32, 33, 34, 35, 36, 37, 38, 39, 40, 41, 42, 43, 44, 45, 46, 47, 48, 49, 50, 51, 52, 53, 54, 55, 56, 57, 58, 59, 60, 61, 62, 63, 64, 65, 66, 67, 68, 69, 70, 71, 72, 73, 74, 75, 76, 77, 78, 79, 80, 81, 82, 83, 84, 85, 86, 87, 88, 89, 90, 91, 92, 93, 94, 95, 96, 97, 98, 99, ...]\n",
      "\n",
      "[10572 rows x 0 columns]\n"
     ]
    }
   ],
   "source": [
    "df.columns\n",
    "print(df)"
   ]
  },
  {
   "cell_type": "code",
   "execution_count": null,
   "id": "c41fcf9f-7d8b-4ff1-93e2-844e578abc92",
   "metadata": {},
   "outputs": [],
   "source": []
  }
 ],
 "metadata": {
  "kernelspec": {
   "display_name": "Python 3 (ipykernel)",
   "language": "python",
   "name": "python3"
  },
  "language_info": {
   "codemirror_mode": {
    "name": "ipython",
    "version": 3
   },
   "file_extension": ".py",
   "mimetype": "text/x-python",
   "name": "python",
   "nbconvert_exporter": "python",
   "pygments_lexer": "ipython3",
   "version": "3.11.7"
  }
 },
 "nbformat": 4,
 "nbformat_minor": 5
}
